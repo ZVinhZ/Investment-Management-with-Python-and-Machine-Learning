{
 "cells": [
  {
   "cell_type": "markdown",
   "id": "5092b7a9",
   "metadata": {},
   "source": [
    "# Building Modules"
   ]
  },
  {
   "cell_type": "code",
   "execution_count": 2,
   "id": "d1257b72",
   "metadata": {},
   "outputs": [],
   "source": [
    "import pandas as pd"
   ]
  },
  {
   "cell_type": "code",
   "execution_count": 7,
   "id": "dc53b2e8",
   "metadata": {},
   "outputs": [],
   "source": [
    "import hello as h"
   ]
  },
  {
   "cell_type": "code",
   "execution_count": 8,
   "id": "5a3feb28",
   "metadata": {},
   "outputs": [
    {
     "data": {
      "text/plain": [
       "'Hello Vinh'"
      ]
     },
     "execution_count": 8,
     "metadata": {},
     "output_type": "execute_result"
    }
   ],
   "source": [
    "h.message"
   ]
  },
  {
   "cell_type": "markdown",
   "id": "b6e9ec37",
   "metadata": {},
   "source": [
    "What went wrong?\n",
    "\n",
    "Since the contents of modules dont usually change very much (except during module development) Python is smart about importing modules and once a module is imported, it doesnt bother re-importing the module. Normally, this is what you want, but in our case when we are developing the module we want to force the module to geet automatically reloaded everytime it changes.\n",
    "\n",
    "Fortunately, there is a _magic_ command sequence that does exactly that. First, we have to load an extension called `autoreload` by executing the _magic command_ `%load_ext autoreload`. Once you have loaded that extension, you now have access to a new _magic command_ called `%autoreload` which supports different modes of autoreload. The mode we want for now is to automatically reload anything that changes, which is mode 2. So, you need to execute:\n"
   ]
  },
  {
   "cell_type": "code",
   "execution_count": 9,
   "id": "c396fedf",
   "metadata": {},
   "outputs": [],
   "source": [
    "%load_ext autoreload\n",
    "%autoreload 2"
   ]
  },
  {
   "cell_type": "code",
   "execution_count": 12,
   "id": "5be02090",
   "metadata": {},
   "outputs": [
    {
     "data": {
      "text/plain": [
       "'Hello Vinh pro me'"
      ]
     },
     "execution_count": 12,
     "metadata": {},
     "output_type": "execute_result"
    }
   ],
   "source": [
    "h.message"
   ]
  },
  {
   "cell_type": "markdown",
   "id": "f3496351",
   "metadata": {},
   "source": [
    "# Risk kit"
   ]
  },
  {
   "cell_type": "code",
   "execution_count": 13,
   "id": "8ac834b0",
   "metadata": {},
   "outputs": [],
   "source": [
    "import edhec_risk_kit as erk"
   ]
  },
  {
   "cell_type": "code",
   "execution_count": 14,
   "id": "89c01530",
   "metadata": {},
   "outputs": [],
   "source": [
    "returns = erk.get_ffme_returns()"
   ]
  },
  {
   "cell_type": "code",
   "execution_count": 15,
   "id": "038cbe2d",
   "metadata": {},
   "outputs": [
    {
     "data": {
      "text/html": [
       "<div>\n",
       "<style scoped>\n",
       "    .dataframe tbody tr th:only-of-type {\n",
       "        vertical-align: middle;\n",
       "    }\n",
       "\n",
       "    .dataframe tbody tr th {\n",
       "        vertical-align: top;\n",
       "    }\n",
       "\n",
       "    .dataframe thead th {\n",
       "        text-align: right;\n",
       "    }\n",
       "</style>\n",
       "<table border=\"1\" class=\"dataframe\">\n",
       "  <thead>\n",
       "    <tr style=\"text-align: right;\">\n",
       "      <th></th>\n",
       "      <th>SmallCap</th>\n",
       "      <th>LargeCap</th>\n",
       "    </tr>\n",
       "  </thead>\n",
       "  <tbody>\n",
       "    <tr>\n",
       "      <th>1926-07</th>\n",
       "      <td>-0.0145</td>\n",
       "      <td>0.0329</td>\n",
       "    </tr>\n",
       "    <tr>\n",
       "      <th>1926-08</th>\n",
       "      <td>0.0512</td>\n",
       "      <td>0.0370</td>\n",
       "    </tr>\n",
       "    <tr>\n",
       "      <th>1926-09</th>\n",
       "      <td>0.0093</td>\n",
       "      <td>0.0067</td>\n",
       "    </tr>\n",
       "    <tr>\n",
       "      <th>1926-10</th>\n",
       "      <td>-0.0484</td>\n",
       "      <td>-0.0243</td>\n",
       "    </tr>\n",
       "    <tr>\n",
       "      <th>1926-11</th>\n",
       "      <td>-0.0078</td>\n",
       "      <td>0.0270</td>\n",
       "    </tr>\n",
       "  </tbody>\n",
       "</table>\n",
       "</div>"
      ],
      "text/plain": [
       "         SmallCap  LargeCap\n",
       "1926-07   -0.0145    0.0329\n",
       "1926-08    0.0512    0.0370\n",
       "1926-09    0.0093    0.0067\n",
       "1926-10   -0.0484   -0.0243\n",
       "1926-11   -0.0078    0.0270"
      ]
     },
     "execution_count": 15,
     "metadata": {},
     "output_type": "execute_result"
    }
   ],
   "source": [
    "returns.head()"
   ]
  },
  {
   "cell_type": "code",
   "execution_count": 16,
   "id": "4462ed19",
   "metadata": {},
   "outputs": [
    {
     "data": {
      "text/plain": [
       "-0.8330007793945303"
      ]
     },
     "execution_count": 16,
     "metadata": {},
     "output_type": "execute_result"
    }
   ],
   "source": [
    "erk.drawdown(returns[\"SmallCap\"])[\"Drawdown\"].min()"
   ]
  },
  {
   "cell_type": "code",
   "execution_count": 17,
   "id": "57085f3c",
   "metadata": {},
   "outputs": [
    {
     "data": {
      "text/plain": [
       "-0.6312068077252386"
      ]
     },
     "execution_count": 17,
     "metadata": {},
     "output_type": "execute_result"
    }
   ],
   "source": [
    "erk.drawdown(returns[\"1975\":][\"SmallCap\"])[\"Drawdown\"].min()"
   ]
  }
 ],
 "metadata": {
  "kernelspec": {
   "display_name": "Python 3 (ipykernel)",
   "language": "python",
   "name": "python3"
  },
  "language_info": {
   "codemirror_mode": {
    "name": "ipython",
    "version": 3
   },
   "file_extension": ".py",
   "mimetype": "text/x-python",
   "name": "python",
   "nbconvert_exporter": "python",
   "pygments_lexer": "ipython3",
   "version": "3.10.2"
  }
 },
 "nbformat": 4,
 "nbformat_minor": 5
}
