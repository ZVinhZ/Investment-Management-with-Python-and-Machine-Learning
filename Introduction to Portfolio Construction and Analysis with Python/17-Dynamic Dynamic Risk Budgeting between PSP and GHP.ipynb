{
 "cells": [
  {
   "cell_type": "markdown",
   "id": "e5f82376",
   "metadata": {},
   "source": [
    "# Monte Carlo simulation of Dynamic Risk Budgeting between PSP and GHP\n",
    "\n",
    "We've looked at the fundamental problem of how much to allocate in the safe asset vs the performance seeking asset, and we investigated static and glidepath based techniques. Now we'll look at modern dynamic techniques that are inspired by CPPI to ensure that the account value reaches a certain target minimum floor, but also maintains exposure to the upside through a dynamic risk budget"
   ]
  },
  {
   "cell_type": "code",
   "execution_count": 1,
   "id": "fc0f5c23",
   "metadata": {},
   "outputs": [],
   "source": [
    "import numpy as np\n",
    "import pandas as pd\n",
    "import edhec_risk_kit as erk\n",
    "import matplotlib.pyplot as plt\n",
    "import seaborn as sns\n",
    "\n",
    "%matplotlib inline\n",
    "%load_ext autoreload\n",
    "%autoreload 2"
   ]
  },
  {
   "cell_type": "markdown",
   "id": "ee883e27",
   "metadata": {},
   "source": [
    "Let's start by building 500 scenarios for interest rates, an duration matched bond portfolio (proxied by a zero coupon bond) and a stock portfolio"
   ]
  },
  {
   "cell_type": "code",
   "execution_count": 2,
   "id": "a7c35cee",
   "metadata": {},
   "outputs": [
    {
     "data": {
      "text/html": [
       "<div>\n",
       "<style scoped>\n",
       "    .dataframe tbody tr th:only-of-type {\n",
       "        vertical-align: middle;\n",
       "    }\n",
       "\n",
       "    .dataframe tbody tr th {\n",
       "        vertical-align: top;\n",
       "    }\n",
       "\n",
       "    .dataframe thead th {\n",
       "        text-align: right;\n",
       "    }\n",
       "</style>\n",
       "<table border=\"1\" class=\"dataframe\">\n",
       "  <thead>\n",
       "    <tr style=\"text-align: right;\">\n",
       "      <th></th>\n",
       "      <th>ZC</th>\n",
       "      <th>Eq</th>\n",
       "      <th>70/30</th>\n",
       "    </tr>\n",
       "  </thead>\n",
       "  <tbody>\n",
       "    <tr>\n",
       "      <th>mean</th>\n",
       "      <td>1.34</td>\n",
       "      <td>2.00</td>\n",
       "      <td>1.77</td>\n",
       "    </tr>\n",
       "    <tr>\n",
       "      <th>std</th>\n",
       "      <td>0.00</td>\n",
       "      <td>1.03</td>\n",
       "      <td>0.61</td>\n",
       "    </tr>\n",
       "    <tr>\n",
       "      <th>p_breach</th>\n",
       "      <td>NaN</td>\n",
       "      <td>0.03</td>\n",
       "      <td>0.01</td>\n",
       "    </tr>\n",
       "    <tr>\n",
       "      <th>e_short</th>\n",
       "      <td>NaN</td>\n",
       "      <td>0.12</td>\n",
       "      <td>0.08</td>\n",
       "    </tr>\n",
       "    <tr>\n",
       "      <th>p_reach</th>\n",
       "      <td>NaN</td>\n",
       "      <td>NaN</td>\n",
       "      <td>NaN</td>\n",
       "    </tr>\n",
       "    <tr>\n",
       "      <th>e_surplus</th>\n",
       "      <td>NaN</td>\n",
       "      <td>NaN</td>\n",
       "      <td>NaN</td>\n",
       "    </tr>\n",
       "  </tbody>\n",
       "</table>\n",
       "</div>"
      ],
      "text/plain": [
       "             ZC    Eq  70/30\n",
       "mean       1.34  2.00   1.77\n",
       "std        0.00  1.03   0.61\n",
       "p_breach    NaN  0.03   0.01\n",
       "e_short     NaN  0.12   0.08\n",
       "p_reach     NaN   NaN    NaN\n",
       "e_surplus   NaN   NaN    NaN"
      ]
     },
     "execution_count": 2,
     "metadata": {},
     "output_type": "execute_result"
    }
   ],
   "source": [
    "n_scenarios =  5000\n",
    "rates, zc_prices = erk.cir(10, n_scenarios=n_scenarios, b=0.03, r_0 = 0.03, sigma=0.02)\n",
    "price_eq = erk.gbm(n_years=10,n_scenarios=n_scenarios, mu=0.07, sigma=0.15)\n",
    "rets_eq = price_eq.pct_change().dropna()\n",
    "rets_zc = zc_prices.pct_change().dropna()\n",
    "rets_7030b = erk.bt_mix(rets_eq, rets_zc, allocator=erk.fixedmix_allocator, w1=0.7)\n",
    "pd.concat([erk.terminal_stats(rets_zc, name=\"ZC\", floor=0.75), \n",
    "           erk.terminal_stats(rets_eq, name=\"Eq\", floor=0.75),\n",
    "           erk.terminal_stats(rets_7030b, name=\"70/30\", floor=0.75)],\n",
    "          axis=1).round(2)"
   ]
  },
  {
   "cell_type": "markdown",
   "id": "0bdfe42b",
   "metadata": {},
   "source": [
    "Let's write a new allocator that we'll call a Floor Allocator applies a dynamic risk budget to allocate more to the PSP when there is a cushion, similar to what we did for CPPI\n",
    "\n",
    "```python\n",
    "def floor_allocator(psp_r, ghp_r, floor, zc_prices, m=3):\n",
    "    \"\"\"\n",
    "    Allocate between PSP and GHP with the goal to provide exposure to the upside\n",
    "    of the PSP without going violating the floor.\n",
    "    Uses a CPPI-style dynamic risk budgeting algorithm by investing a multiple\n",
    "    of the cushion in the PSP\n",
    "    Returns a DataFrame with the same shape as the psp/ghp representing the weights in the PSP\n",
    "    \"\"\"\n",
    "    if zc_prices.shape != psp_r.shape:\n",
    "        raise ValueError(\"PSP and ZC Prices must have the same shape\")\n",
    "    n_steps, n_scenarios = psp_r.shape\n",
    "    account_value = np.repeat(1, n_scenarios)\n",
    "    floor_value = np.repeat(1, n_scenarios)\n",
    "    w_history = pd.DataFrame(index=psp_r.index, columns=psp_r.columns)\n",
    "    for step in range(n_steps):\n",
    "        floor_value = floor*zc_prices.iloc[step] ## PV of Floor assuming today's rates and flat YC\n",
    "        cushion = (account_value - floor_value)/account_value\n",
    "        \n",
    "        psp_w = (m*cushion).clip(0, 1) # same as applying min and max, to make sure weight is between 0 and 1\n",
    "        ghp_w = 1-psp_w\n",
    "        \n",
    "        psp_alloc = account_value*psp_w\n",
    "        ghp_alloc = account_value*ghp_w\n",
    "        \n",
    "        # recompute the new account value at the end of this step\n",
    "        account_value = psp_alloc*(1+psp_r.iloc[step]) + ghp_alloc*(1+ghp_r.iloc[step])\n",
    "        w_history.iloc[step] = psp_w\n",
    "    return w_history\n",
    "```\n"
   ]
  },
  {
   "cell_type": "code",
   "execution_count": 3,
   "id": "658c4ec9",
   "metadata": {},
   "outputs": [
    {
     "data": {
      "text/html": [
       "<div>\n",
       "<style scoped>\n",
       "    .dataframe tbody tr th:only-of-type {\n",
       "        vertical-align: middle;\n",
       "    }\n",
       "\n",
       "    .dataframe tbody tr th {\n",
       "        vertical-align: top;\n",
       "    }\n",
       "\n",
       "    .dataframe thead th {\n",
       "        text-align: right;\n",
       "    }\n",
       "</style>\n",
       "<table border=\"1\" class=\"dataframe\">\n",
       "  <thead>\n",
       "    <tr style=\"text-align: right;\">\n",
       "      <th></th>\n",
       "      <th>ZC</th>\n",
       "      <th>Eq</th>\n",
       "      <th>70/30</th>\n",
       "      <th>Floor75</th>\n",
       "    </tr>\n",
       "  </thead>\n",
       "  <tbody>\n",
       "    <tr>\n",
       "      <th>mean</th>\n",
       "      <td>1.34</td>\n",
       "      <td>2.00</td>\n",
       "      <td>1.77</td>\n",
       "      <td>1.97</td>\n",
       "    </tr>\n",
       "    <tr>\n",
       "      <th>std</th>\n",
       "      <td>0.00</td>\n",
       "      <td>1.03</td>\n",
       "      <td>0.61</td>\n",
       "      <td>1.03</td>\n",
       "    </tr>\n",
       "    <tr>\n",
       "      <th>p_breach</th>\n",
       "      <td>NaN</td>\n",
       "      <td>0.03</td>\n",
       "      <td>0.01</td>\n",
       "      <td>NaN</td>\n",
       "    </tr>\n",
       "    <tr>\n",
       "      <th>e_short</th>\n",
       "      <td>NaN</td>\n",
       "      <td>0.12</td>\n",
       "      <td>0.08</td>\n",
       "      <td>NaN</td>\n",
       "    </tr>\n",
       "    <tr>\n",
       "      <th>p_reach</th>\n",
       "      <td>NaN</td>\n",
       "      <td>NaN</td>\n",
       "      <td>NaN</td>\n",
       "      <td>NaN</td>\n",
       "    </tr>\n",
       "    <tr>\n",
       "      <th>e_surplus</th>\n",
       "      <td>NaN</td>\n",
       "      <td>NaN</td>\n",
       "      <td>NaN</td>\n",
       "      <td>NaN</td>\n",
       "    </tr>\n",
       "  </tbody>\n",
       "</table>\n",
       "</div>"
      ],
      "text/plain": [
       "             ZC    Eq  70/30  Floor75\n",
       "mean       1.34  2.00   1.77     1.97\n",
       "std        0.00  1.03   0.61     1.03\n",
       "p_breach    NaN  0.03   0.01      NaN\n",
       "e_short     NaN  0.12   0.08      NaN\n",
       "p_reach     NaN   NaN    NaN      NaN\n",
       "e_surplus   NaN   NaN    NaN      NaN"
      ]
     },
     "execution_count": 3,
     "metadata": {},
     "output_type": "execute_result"
    }
   ],
   "source": [
    "rets_floor75 = erk.bt_mix(rets_eq, rets_zc, allocator=erk.floor_allocator, floor=.75,  zc_prices=zc_prices[1:])\n",
    "\n",
    "pd.concat([erk.terminal_stats(rets_zc, name=\"ZC\", floor=0.75), \n",
    "           erk.terminal_stats(rets_eq, name=\"Eq\", floor=0.75),\n",
    "           erk.terminal_stats(rets_7030b, name=\"70/30\", floor=0.75),\n",
    "           erk.terminal_stats(rets_floor75, name=\"Floor75\", floor=0.75),\n",
    "          ],\n",
    "          axis=1).round(2)"
   ]
  },
  {
   "cell_type": "code",
   "execution_count": 4,
   "id": "78ff49e1",
   "metadata": {},
   "outputs": [
    {
     "data": {
      "text/html": [
       "<div>\n",
       "<style scoped>\n",
       "    .dataframe tbody tr th:only-of-type {\n",
       "        vertical-align: middle;\n",
       "    }\n",
       "\n",
       "    .dataframe tbody tr th {\n",
       "        vertical-align: top;\n",
       "    }\n",
       "\n",
       "    .dataframe thead th {\n",
       "        text-align: right;\n",
       "    }\n",
       "</style>\n",
       "<table border=\"1\" class=\"dataframe\">\n",
       "  <thead>\n",
       "    <tr style=\"text-align: right;\">\n",
       "      <th></th>\n",
       "      <th>ZC</th>\n",
       "      <th>Eq</th>\n",
       "      <th>70/30</th>\n",
       "      <th>Floor75</th>\n",
       "      <th>Floor75m1</th>\n",
       "    </tr>\n",
       "  </thead>\n",
       "  <tbody>\n",
       "    <tr>\n",
       "      <th>mean</th>\n",
       "      <td>1.34</td>\n",
       "      <td>2.00</td>\n",
       "      <td>1.77</td>\n",
       "      <td>1.97</td>\n",
       "      <td>1.63</td>\n",
       "    </tr>\n",
       "    <tr>\n",
       "      <th>std</th>\n",
       "      <td>0.00</td>\n",
       "      <td>1.03</td>\n",
       "      <td>0.61</td>\n",
       "      <td>1.03</td>\n",
       "      <td>0.45</td>\n",
       "    </tr>\n",
       "    <tr>\n",
       "      <th>p_breach</th>\n",
       "      <td>NaN</td>\n",
       "      <td>0.03</td>\n",
       "      <td>0.01</td>\n",
       "      <td>NaN</td>\n",
       "      <td>NaN</td>\n",
       "    </tr>\n",
       "    <tr>\n",
       "      <th>e_short</th>\n",
       "      <td>NaN</td>\n",
       "      <td>0.12</td>\n",
       "      <td>0.08</td>\n",
       "      <td>NaN</td>\n",
       "      <td>NaN</td>\n",
       "    </tr>\n",
       "    <tr>\n",
       "      <th>p_reach</th>\n",
       "      <td>NaN</td>\n",
       "      <td>NaN</td>\n",
       "      <td>NaN</td>\n",
       "      <td>NaN</td>\n",
       "      <td>NaN</td>\n",
       "    </tr>\n",
       "    <tr>\n",
       "      <th>e_surplus</th>\n",
       "      <td>NaN</td>\n",
       "      <td>NaN</td>\n",
       "      <td>NaN</td>\n",
       "      <td>NaN</td>\n",
       "      <td>NaN</td>\n",
       "    </tr>\n",
       "  </tbody>\n",
       "</table>\n",
       "</div>"
      ],
      "text/plain": [
       "             ZC    Eq  70/30  Floor75  Floor75m1\n",
       "mean       1.34  2.00   1.77     1.97       1.63\n",
       "std        0.00  1.03   0.61     1.03       0.45\n",
       "p_breach    NaN  0.03   0.01      NaN        NaN\n",
       "e_short     NaN  0.12   0.08      NaN        NaN\n",
       "p_reach     NaN   NaN    NaN      NaN        NaN\n",
       "e_surplus   NaN   NaN    NaN      NaN        NaN"
      ]
     },
     "execution_count": 4,
     "metadata": {},
     "output_type": "execute_result"
    }
   ],
   "source": [
    "rets_floor75m1 = erk.bt_mix(rets_eq, rets_zc, allocator=erk.floor_allocator, zc_prices=zc_prices[1:], floor=.75, m=1)\n",
    "pd.concat([erk.terminal_stats(rets_zc, name=\"ZC\", floor=0.75), \n",
    "           erk.terminal_stats(rets_eq, name=\"Eq\", floor=0.75),\n",
    "           erk.terminal_stats(rets_7030b, name=\"70/30\", floor=0.75),\n",
    "           erk.terminal_stats(rets_floor75, name=\"Floor75\", floor=0.75),\n",
    "           erk.terminal_stats(rets_floor75m1, name=\"Floor75m1\", floor=0.75),\n",
    "          ],\n",
    "          axis=1).round(2)"
   ]
  },
  {
   "cell_type": "code",
   "execution_count": 5,
   "id": "14442975",
   "metadata": {},
   "outputs": [
    {
     "data": {
      "text/html": [
       "<div>\n",
       "<style scoped>\n",
       "    .dataframe tbody tr th:only-of-type {\n",
       "        vertical-align: middle;\n",
       "    }\n",
       "\n",
       "    .dataframe tbody tr th {\n",
       "        vertical-align: top;\n",
       "    }\n",
       "\n",
       "    .dataframe thead th {\n",
       "        text-align: right;\n",
       "    }\n",
       "</style>\n",
       "<table border=\"1\" class=\"dataframe\">\n",
       "  <thead>\n",
       "    <tr style=\"text-align: right;\">\n",
       "      <th></th>\n",
       "      <th>ZC</th>\n",
       "      <th>Eq</th>\n",
       "      <th>70/30</th>\n",
       "      <th>Floor75</th>\n",
       "      <th>Floor75m1</th>\n",
       "      <th>Floor75m5</th>\n",
       "      <th>Floor75m10</th>\n",
       "    </tr>\n",
       "  </thead>\n",
       "  <tbody>\n",
       "    <tr>\n",
       "      <th>mean</th>\n",
       "      <td>1.34</td>\n",
       "      <td>2.00</td>\n",
       "      <td>1.77</td>\n",
       "      <td>1.97</td>\n",
       "      <td>1.63</td>\n",
       "      <td>1.98</td>\n",
       "      <td>1.98</td>\n",
       "    </tr>\n",
       "    <tr>\n",
       "      <th>std</th>\n",
       "      <td>0.00</td>\n",
       "      <td>1.03</td>\n",
       "      <td>0.61</td>\n",
       "      <td>1.03</td>\n",
       "      <td>0.45</td>\n",
       "      <td>1.04</td>\n",
       "      <td>1.04</td>\n",
       "    </tr>\n",
       "    <tr>\n",
       "      <th>p_breach</th>\n",
       "      <td>NaN</td>\n",
       "      <td>0.03</td>\n",
       "      <td>0.01</td>\n",
       "      <td>NaN</td>\n",
       "      <td>NaN</td>\n",
       "      <td>NaN</td>\n",
       "      <td>0.02</td>\n",
       "    </tr>\n",
       "    <tr>\n",
       "      <th>e_short</th>\n",
       "      <td>NaN</td>\n",
       "      <td>0.12</td>\n",
       "      <td>0.08</td>\n",
       "      <td>NaN</td>\n",
       "      <td>NaN</td>\n",
       "      <td>NaN</td>\n",
       "      <td>0.00</td>\n",
       "    </tr>\n",
       "    <tr>\n",
       "      <th>p_reach</th>\n",
       "      <td>NaN</td>\n",
       "      <td>NaN</td>\n",
       "      <td>NaN</td>\n",
       "      <td>NaN</td>\n",
       "      <td>NaN</td>\n",
       "      <td>NaN</td>\n",
       "      <td>NaN</td>\n",
       "    </tr>\n",
       "    <tr>\n",
       "      <th>e_surplus</th>\n",
       "      <td>NaN</td>\n",
       "      <td>NaN</td>\n",
       "      <td>NaN</td>\n",
       "      <td>NaN</td>\n",
       "      <td>NaN</td>\n",
       "      <td>NaN</td>\n",
       "      <td>NaN</td>\n",
       "    </tr>\n",
       "  </tbody>\n",
       "</table>\n",
       "</div>"
      ],
      "text/plain": [
       "             ZC    Eq  70/30  Floor75  Floor75m1  Floor75m5  Floor75m10\n",
       "mean       1.34  2.00   1.77     1.97       1.63       1.98        1.98\n",
       "std        0.00  1.03   0.61     1.03       0.45       1.04        1.04\n",
       "p_breach    NaN  0.03   0.01      NaN        NaN        NaN        0.02\n",
       "e_short     NaN  0.12   0.08      NaN        NaN        NaN        0.00\n",
       "p_reach     NaN   NaN    NaN      NaN        NaN        NaN         NaN\n",
       "e_surplus   NaN   NaN    NaN      NaN        NaN        NaN         NaN"
      ]
     },
     "execution_count": 5,
     "metadata": {},
     "output_type": "execute_result"
    }
   ],
   "source": [
    "rets_floor75m5 = erk.bt_mix(rets_eq, rets_zc, allocator=erk.floor_allocator, zc_prices=zc_prices[1:], floor=.75, m=5)\n",
    "rets_floor75m10 = erk.bt_mix(rets_eq, rets_zc, allocator=erk.floor_allocator, zc_prices=zc_prices[1:], floor=.75, m=10)\n",
    "pd.concat([erk.terminal_stats(rets_zc, name=\"ZC\", floor=0.75), \n",
    "           erk.terminal_stats(rets_eq, name=\"Eq\", floor=0.75),\n",
    "           erk.terminal_stats(rets_7030b, name=\"70/30\", floor=0.75),\n",
    "           erk.terminal_stats(rets_floor75, name=\"Floor75\", floor=0.75),\n",
    "           erk.terminal_stats(rets_floor75m1, name=\"Floor75m1\", floor=0.75),\n",
    "           erk.terminal_stats(rets_floor75m5, name=\"Floor75m5\", floor=0.75),\n",
    "           erk.terminal_stats(rets_floor75m10, name=\"Floor75m10\", floor=0.75)\n",
    "          ],\n",
    "          axis=1).round(2)"
   ]
  },
  {
   "cell_type": "code",
   "execution_count": 6,
   "id": "c40bdecc",
   "metadata": {},
   "outputs": [
    {
     "name": "stderr",
     "output_type": "stream",
     "text": [
      "C:\\Users\\NGUYEN Xuan Vinh\\AppData\\Local\\Programs\\Python\\Python310\\lib\\site-packages\\seaborn\\distributions.py:2619: FutureWarning: `distplot` is a deprecated function and will be removed in a future version. Please adapt your code to use either `displot` (a figure-level function with similar flexibility) or `histplot` (an axes-level function for histograms).\n",
      "  warnings.warn(msg, FutureWarning)\n",
      "C:\\Users\\NGUYEN Xuan Vinh\\AppData\\Local\\Programs\\Python\\Python310\\lib\\site-packages\\seaborn\\distributions.py:2619: FutureWarning: `distplot` is a deprecated function and will be removed in a future version. Please adapt your code to use either `displot` (a figure-level function with similar flexibility) or `histplot` (an axes-level function for histograms).\n",
      "  warnings.warn(msg, FutureWarning)\n",
      "C:\\Users\\NGUYEN Xuan Vinh\\AppData\\Local\\Programs\\Python\\Python310\\lib\\site-packages\\seaborn\\distributions.py:2619: FutureWarning: `distplot` is a deprecated function and will be removed in a future version. Please adapt your code to use either `displot` (a figure-level function with similar flexibility) or `histplot` (an axes-level function for histograms).\n",
      "  warnings.warn(msg, FutureWarning)\n"
     ]
    },
    {
     "data": {
      "image/png": "[encoded data removed]",
      "text/plain": [
       "<Figure size 864x432 with 1 Axes>"
      ]
     },
     "metadata": {
      "needs_background": "light"
     },
     "output_type": "display_data"
    }
   ],
   "source": [
    "tv_eq = erk.terminal_values(rets_eq)\n",
    "tv_zc = erk.terminal_values(rets_zc)\n",
    "tv_7030b = erk.terminal_values(rets_7030b)\n",
    "tv_floor75 = erk.terminal_values(rets_floor75)\n",
    "tv_floor75m1 = erk.terminal_values(rets_floor75m1)\n",
    "import seaborn as sns\n",
    "import matplotlib.pyplot as plt\n",
    "plt.figure(figsize=(12, 6))\n",
    "sns.distplot(tv_eq, color=\"red\", label=\"100% Equities\", bins=100)\n",
    "#sns.distplot(tv_zc, color=\"blue\", label=\"100% Immunized Bonds\")\n",
    "sns.distplot(tv_7030b, color=\"orange\", label=\"70/30 Equities/Bonds\", bins=100)\n",
    "sns.distplot(tv_floor75, color=\"green\", label=\"Floor at 75%\", bins=100)\n",
    "\n",
    "plt.legend();"
   ]
  },
  {
   "cell_type": "code",
   "execution_count": 7,
   "id": "b566b2bc",
   "metadata": {},
   "outputs": [
    {
     "name": "stderr",
     "output_type": "stream",
     "text": [
      "C:\\Users\\NGUYEN Xuan Vinh\\AppData\\Local\\Programs\\Python\\Python310\\lib\\site-packages\\seaborn\\distributions.py:2619: FutureWarning: `distplot` is a deprecated function and will be removed in a future version. Please adapt your code to use either `displot` (a figure-level function with similar flexibility) or `histplot` (an axes-level function for histograms).\n",
      "  warnings.warn(msg, FutureWarning)\n",
      "C:\\Users\\NGUYEN Xuan Vinh\\AppData\\Local\\Programs\\Python\\Python310\\lib\\site-packages\\seaborn\\distributions.py:2619: FutureWarning: `distplot` is a deprecated function and will be removed in a future version. Please adapt your code to use either `displot` (a figure-level function with similar flexibility) or `histplot` (an axes-level function for histograms).\n",
      "  warnings.warn(msg, FutureWarning)\n",
      "C:\\Users\\NGUYEN Xuan Vinh\\AppData\\Local\\Programs\\Python\\Python310\\lib\\site-packages\\seaborn\\distributions.py:2619: FutureWarning: `distplot` is a deprecated function and will be removed in a future version. Please adapt your code to use either `displot` (a figure-level function with similar flexibility) or `histplot` (an axes-level function for histograms).\n",
      "  warnings.warn(msg, FutureWarning)\n"
     ]
    },
    {
     "data": {
      "image/png": "[encoded data removed]",
      "text/plain": [
       "<Figure size 864x432 with 1 Axes>"
      ]
     },
     "metadata": {
      "needs_background": "light"
     },
     "output_type": "display_data"
    }
   ],
   "source": [
    "tv_eq = erk.terminal_values(rets_eq)\n",
    "tv_zc = erk.terminal_values(rets_zc)\n",
    "tv_7030b = erk.terminal_values(rets_7030b)\n",
    "tv_floor75 = erk.terminal_values(rets_floor75)\n",
    "tv_floor75m1 = erk.terminal_values(rets_floor75m1)\n",
    "import seaborn as sns\n",
    "import matplotlib.pyplot as plt\n",
    "plt.figure(figsize=(12, 6))\n",
    "sns.distplot(tv_eq, color=\"red\", label=\"100% Equities\", bins=100)\n",
    "plt.axvline(tv_eq.mean(), ls=\"--\", color=\"red\")\n",
    "#sns.distplot(tv_zc, color=\"blue\", label=\"100% Immunized Bonds\")\n",
    "#plt.axvline(tv_zc.mean(), ls=\"--\", color=\"blue\")\n",
    "sns.distplot(tv_7030b, color=\"orange\", label=\"70/30 Equities/Bonds\", bins=100)\n",
    "plt.axvline(tv_7030b.mean(), ls=\"--\", color=\"orange\")\n",
    "sns.distplot(tv_floor75, color=\"green\", label=\"Floor at 75%\", bins=100)\n",
    "plt.axvline(tv_floor75.mean(), ls=\"--\", color=\"green\")\n",
    "\n",
    "plt.legend();"
   ]
  },
  {
   "cell_type": "markdown",
   "id": "21e0a250",
   "metadata": {},
   "source": [
    "## Dynamic Risk Budgeting with Drawdown instead of a fixed floor"
   ]
  },
  {
   "cell_type": "markdown",
   "id": "56235fa2",
   "metadata": {},
   "source": [
    "```python\n",
    "def drawdown_allocator(psp_r, ghp_r, maxdd, m=3):\n",
    "    \"\"\"\n",
    "    Allocate between PSP and GHP with the goal to provide exposure to the upside\n",
    "    of the PSP without going violating the floor.\n",
    "    Uses a CPPI-style dynamic risk budgeting algorithm by investing a multiple\n",
    "    of the cushion in the PSP\n",
    "    Returns a DataFrame with the same shape as the psp/ghp representing the weights in the PSP\n",
    "    \"\"\"\n",
    "    n_steps, n_scenarios = psp_r.shape\n",
    "    account_value = np.repeat(1, n_scenarios)\n",
    "    floor_value = np.repeat(1, n_scenarios)\n",
    "    ### For MaxDD\n",
    "    peak_value = np.repeat(1, n_scenarios)\n",
    "    w_history = pd.DataFrame(index=psp_r.index, columns=psp_r.columns)\n",
    "    for step in range(n_steps):\n",
    "        ### For MaxDD\n",
    "        floor_value = (1-maxdd)*peak_value ### Floor is based on Prev Peak\n",
    "        cushion = (account_value - floor_value)/account_value\n",
    "        psp_w = (m*cushion).clip(0, 1) # same as applying min and max\n",
    "        ghp_w = 1-psp_w\n",
    "        psp_alloc = account_value*psp_w\n",
    "        ghp_alloc = account_value*ghp_w\n",
    "        # recompute the new account value at the end of this step\n",
    "        account_value = psp_alloc*(1+psp_r.iloc[step]) + ghp_alloc*(1+ghp_r.iloc[step])\n",
    "        ### For MaxDD\n",
    "        peak_value = np.maximum(peak_value, account_value) ### For MaxDD\n",
    "        w_history.iloc[step] = psp_w\n",
    "    return w_history\n",
    "```"
   ]
  },
  {
   "cell_type": "code",
   "execution_count": 8,
   "id": "160a6b28",
   "metadata": {},
   "outputs": [
    {
     "data": {
      "text/html": [
       "<div>\n",
       "<style scoped>\n",
       "    .dataframe tbody tr th:only-of-type {\n",
       "        vertical-align: middle;\n",
       "    }\n",
       "\n",
       "    .dataframe tbody tr th {\n",
       "        vertical-align: top;\n",
       "    }\n",
       "\n",
       "    .dataframe thead th {\n",
       "        text-align: right;\n",
       "    }\n",
       "</style>\n",
       "<table border=\"1\" class=\"dataframe\">\n",
       "  <thead>\n",
       "    <tr style=\"text-align: right;\">\n",
       "      <th></th>\n",
       "      <th>ZC</th>\n",
       "      <th>Eq</th>\n",
       "      <th>70/30</th>\n",
       "      <th>Floor75</th>\n",
       "      <th>Floor75m1</th>\n",
       "      <th>Floor75m5</th>\n",
       "      <th>Floor75m10</th>\n",
       "      <th>MaxDD25</th>\n",
       "    </tr>\n",
       "  </thead>\n",
       "  <tbody>\n",
       "    <tr>\n",
       "      <th>mean</th>\n",
       "      <td>1.34</td>\n",
       "      <td>2.00</td>\n",
       "      <td>1.77</td>\n",
       "      <td>1.97</td>\n",
       "      <td>1.63</td>\n",
       "      <td>1.98</td>\n",
       "      <td>1.98</td>\n",
       "      <td>1.64</td>\n",
       "    </tr>\n",
       "    <tr>\n",
       "      <th>std</th>\n",
       "      <td>0.00</td>\n",
       "      <td>1.03</td>\n",
       "      <td>0.61</td>\n",
       "      <td>1.03</td>\n",
       "      <td>0.45</td>\n",
       "      <td>1.04</td>\n",
       "      <td>1.04</td>\n",
       "      <td>0.56</td>\n",
       "    </tr>\n",
       "    <tr>\n",
       "      <th>p_breach</th>\n",
       "      <td>NaN</td>\n",
       "      <td>0.03</td>\n",
       "      <td>0.01</td>\n",
       "      <td>NaN</td>\n",
       "      <td>NaN</td>\n",
       "      <td>NaN</td>\n",
       "      <td>0.02</td>\n",
       "      <td>NaN</td>\n",
       "    </tr>\n",
       "    <tr>\n",
       "      <th>e_short</th>\n",
       "      <td>NaN</td>\n",
       "      <td>0.12</td>\n",
       "      <td>0.08</td>\n",
       "      <td>NaN</td>\n",
       "      <td>NaN</td>\n",
       "      <td>NaN</td>\n",
       "      <td>0.00</td>\n",
       "      <td>NaN</td>\n",
       "    </tr>\n",
       "    <tr>\n",
       "      <th>p_reach</th>\n",
       "      <td>NaN</td>\n",
       "      <td>NaN</td>\n",
       "      <td>NaN</td>\n",
       "      <td>NaN</td>\n",
       "      <td>NaN</td>\n",
       "      <td>NaN</td>\n",
       "      <td>NaN</td>\n",
       "      <td>NaN</td>\n",
       "    </tr>\n",
       "    <tr>\n",
       "      <th>e_surplus</th>\n",
       "      <td>NaN</td>\n",
       "      <td>NaN</td>\n",
       "      <td>NaN</td>\n",
       "      <td>NaN</td>\n",
       "      <td>NaN</td>\n",
       "      <td>NaN</td>\n",
       "      <td>NaN</td>\n",
       "      <td>NaN</td>\n",
       "    </tr>\n",
       "  </tbody>\n",
       "</table>\n",
       "</div>"
      ],
      "text/plain": [
       "             ZC    Eq  70/30  Floor75  Floor75m1  Floor75m5  Floor75m10  \\\n",
       "mean       1.34  2.00   1.77     1.97       1.63       1.98        1.98   \n",
       "std        0.00  1.03   0.61     1.03       0.45       1.04        1.04   \n",
       "p_breach    NaN  0.03   0.01      NaN        NaN        NaN        0.02   \n",
       "e_short     NaN  0.12   0.08      NaN        NaN        NaN        0.00   \n",
       "p_reach     NaN   NaN    NaN      NaN        NaN        NaN         NaN   \n",
       "e_surplus   NaN   NaN    NaN      NaN        NaN        NaN         NaN   \n",
       "\n",
       "           MaxDD25  \n",
       "mean          1.64  \n",
       "std           0.56  \n",
       "p_breach       NaN  \n",
       "e_short        NaN  \n",
       "p_reach        NaN  \n",
       "e_surplus      NaN  "
      ]
     },
     "execution_count": 8,
     "metadata": {},
     "output_type": "execute_result"
    }
   ],
   "source": [
    "cashrate = 0.02\n",
    "monthly_cashreturn = (1+cashrate)**(1/12) - 1\n",
    "rets_cash = pd.DataFrame(data= monthly_cashreturn, index=rets_eq.index, columns=rets_eq.columns)\n",
    "rets_maxdd25 = erk.bt_mix(rets_eq, rets_cash, allocator=erk.drawdown_allocator, maxdd=.25)\n",
    "tv_maxdd25 = erk.terminal_values(rets_maxdd25)\n",
    "pd.concat([erk.terminal_stats(rets_zc, name=\"ZC\", floor=0.75), \n",
    "           erk.terminal_stats(rets_eq, name=\"Eq\", floor=0.75),\n",
    "           erk.terminal_stats(rets_7030b, name=\"70/30\", floor=0.75),\n",
    "           erk.terminal_stats(rets_floor75, name=\"Floor75\", floor=0.75),\n",
    "           erk.terminal_stats(rets_floor75m1, name=\"Floor75m1\", floor=0.75),\n",
    "           erk.terminal_stats(rets_floor75m5, name=\"Floor75m5\", floor=0.75),\n",
    "           erk.terminal_stats(rets_floor75m10, name=\"Floor75m10\", floor=0.75),\n",
    "           erk.terminal_stats(rets_maxdd25, name=\"MaxDD25\", floor=0.75)           \n",
    "          ],\n",
    "          axis=1).round(2)"
   ]
  },
  {
   "cell_type": "code",
   "execution_count": 9,
   "id": "c4ba4f53",
   "metadata": {},
   "outputs": [
    {
     "data": {
      "text/plain": [
       "-0.23121550549586334"
      ]
     },
     "execution_count": 9,
     "metadata": {},
     "output_type": "execute_result"
    }
   ],
   "source": [
    "erk.summary_stats(rets_maxdd25)[\"Max Drawdown\"].min()"
   ]
  },
  {
   "cell_type": "code",
   "execution_count": 10,
   "id": "3150a986",
   "metadata": {},
   "outputs": [
    {
     "name": "stderr",
     "output_type": "stream",
     "text": [
      "C:\\Users\\NGUYEN Xuan Vinh\\AppData\\Local\\Programs\\Python\\Python310\\lib\\site-packages\\seaborn\\distributions.py:2619: FutureWarning: `distplot` is a deprecated function and will be removed in a future version. Please adapt your code to use either `displot` (a figure-level function with similar flexibility) or `histplot` (an axes-level function for histograms).\n",
      "  warnings.warn(msg, FutureWarning)\n",
      "C:\\Users\\NGUYEN Xuan Vinh\\AppData\\Local\\Programs\\Python\\Python310\\lib\\site-packages\\seaborn\\distributions.py:2619: FutureWarning: `distplot` is a deprecated function and will be removed in a future version. Please adapt your code to use either `displot` (a figure-level function with similar flexibility) or `histplot` (an axes-level function for histograms).\n",
      "  warnings.warn(msg, FutureWarning)\n",
      "C:\\Users\\NGUYEN Xuan Vinh\\AppData\\Local\\Programs\\Python\\Python310\\lib\\site-packages\\seaborn\\distributions.py:2619: FutureWarning: `distplot` is a deprecated function and will be removed in a future version. Please adapt your code to use either `displot` (a figure-level function with similar flexibility) or `histplot` (an axes-level function for histograms).\n",
      "  warnings.warn(msg, FutureWarning)\n",
      "C:\\Users\\NGUYEN Xuan Vinh\\AppData\\Local\\Programs\\Python\\Python310\\lib\\site-packages\\seaborn\\distributions.py:2619: FutureWarning: `distplot` is a deprecated function and will be removed in a future version. Please adapt your code to use either `displot` (a figure-level function with similar flexibility) or `histplot` (an axes-level function for histograms).\n",
      "  warnings.warn(msg, FutureWarning)\n"
     ]
    },
    {
     "data": {
      "image/png": "[encoded data removed]",
      "text/plain": [
       "<Figure size 864x432 with 1 Axes>"
      ]
     },
     "metadata": {
      "needs_background": "light"
     },
     "output_type": "display_data"
    }
   ],
   "source": [
    "# Plot\n",
    "plt.figure(figsize=(12, 6))\n",
    "sns.distplot(tv_eq, color=\"red\", label=\"100% Equities\", bins=100)\n",
    "plt.axvline(tv_eq.mean(), ls=\"--\", color=\"red\")\n",
    "#sns.distplot(tv_zc, color=\"blue\", label=\"100% Immunized Bonds\")\n",
    "#plt.axvline(tv_zc.mean(), ls=\"--\", color=\"blue\")\n",
    "sns.distplot(tv_7030b, color=\"orange\", label=\"70/30 Equities/Bonds\", bins=100)\n",
    "plt.axvline(tv_7030b.mean(), ls=\"--\", color=\"orange\")\n",
    "sns.distplot(tv_floor75, color=\"green\", label=\"Floor at 75%\", bins=100)\n",
    "plt.axvline(tv_floor75.mean(), ls=\"--\", color=\"green\")\n",
    "sns.distplot(tv_maxdd25, color=\"yellow\", label=\"MaxDD = 25%\", bins=100)\n",
    "plt.axvline(tv_maxdd25.mean(), ls=\"--\", color=\"yellow\")\n",
    "plt.legend();"
   ]
  },
  {
   "cell_type": "markdown",
   "id": "a027a410",
   "metadata": {},
   "source": [
    "## Backtesting Dynamic Strategies with Historical Data\n",
    "\n",
    "Try and work with real historic data such as a the Industry Portfolios or the Total Market Index we constructed and run back tests with different parameter values. For instance:"
   ]
  },
  {
   "cell_type": "code",
   "execution_count": 11,
   "id": "b7a129d6",
   "metadata": {},
   "outputs": [
    {
     "data": {
      "text/plain": [
       "<AxesSubplot:>"
      ]
     },
     "execution_count": 11,
     "metadata": {},
     "output_type": "execute_result"
    },
    {
     "data": {
      "image/png": "[encoded data removed]",
      "text/plain": [
       "<Figure size 864x432 with 1 Axes>"
      ]
     },
     "metadata": {
      "needs_background": "light"
     },
     "output_type": "display_data"
    }
   ],
   "source": [
    "rets_tmi =  erk.get_total_market_index_returns()[\"1990\":]\n",
    "dd_tmi = erk.drawdown(rets_tmi)\n",
    "ax = dd_tmi[\"Wealth\"].plot(figsize=(12,6), ls=\"-\", color=\"goldenrod\")\n",
    "dd_tmi[\"Previous Peak\"].plot(ax=ax, ls=\":\", color=\"goldenrod\")"
   ]
  },
  {
   "cell_type": "code",
   "execution_count": 12,
   "id": "b28866db",
   "metadata": {},
   "outputs": [
    {
     "data": {
      "text/plain": [
       "<AxesSubplot:>"
      ]
     },
     "execution_count": 12,
     "metadata": {},
     "output_type": "execute_result"
    },
    {
     "data": {
      "image/png": "[encoded data removed]",
      "text/plain": [
       "<Figure size 864x432 with 1 Axes>"
      ]
     },
     "metadata": {
      "needs_background": "light"
     },
     "output_type": "display_data"
    }
   ],
   "source": [
    "cashrate = 0.03\n",
    "monthly_cashreturn = (1+cashrate)**(1/12) - 1\n",
    "rets_cash = pd.DataFrame(data= monthly_cashreturn, index=rets_tmi.index, columns=[0]) # 1 column dataframe\n",
    "rets_maxdd25 = erk.bt_mix(pd.DataFrame(rets_tmi), rets_cash, allocator=erk.drawdown_allocator, maxdd=.25, m=5)\n",
    "dd_25 = erk.drawdown(rets_maxdd25[0])\n",
    "\n",
    "ax = dd_tmi[\"Wealth\"].plot(figsize=(12,6), ls=\"-\", color=\"goldenrod\", label=\"Market\", legend=True)\n",
    "dd_tmi[\"Previous Peak\"].plot(ax=ax, ls=\":\", color=\"goldenrod\")\n",
    "dd_25[\"Wealth\"].plot(ax=ax, label=\"MaxDD 25%\", color=\"cornflowerblue\", legend=True)\n",
    "dd_25[\"Previous Peak\"].plot(ax=ax, color=\"cornflowerblue\", ls=\":\")"
   ]
  },
  {
   "cell_type": "code",
   "execution_count": 16,
   "id": "9f392122",
   "metadata": {},
   "outputs": [
    {
     "data": {
      "text/plain": [
       "1990-01   -0.072355\n",
       "1990-02    0.016016\n",
       "1990-03    0.024696\n",
       "1990-04   -0.027256\n",
       "1990-05    0.090545\n",
       "             ...   \n",
       "2018-08    0.036951\n",
       "2018-09    0.002108\n",
       "2018-10   -0.074292\n",
       "2018-11     0.01816\n",
       "2018-12   -0.092911\n",
       "Freq: M, Name: 0, Length: 348, dtype: object"
      ]
     },
     "execution_count": 16,
     "metadata": {},
     "output_type": "execute_result"
    }
   ],
   "source": [
    "rets_maxdd25[0]"
   ]
  },
  {
   "cell_type": "code",
   "execution_count": 17,
   "id": "172640dd",
   "metadata": {},
   "outputs": [
    {
     "data": {
      "text/html": [
       "<div>\n",
       "<style scoped>\n",
       "    .dataframe tbody tr th:only-of-type {\n",
       "        vertical-align: middle;\n",
       "    }\n",
       "\n",
       "    .dataframe tbody tr th {\n",
       "        vertical-align: top;\n",
       "    }\n",
       "\n",
       "    .dataframe thead th {\n",
       "        text-align: right;\n",
       "    }\n",
       "</style>\n",
       "<table border=\"1\" class=\"dataframe\">\n",
       "  <thead>\n",
       "    <tr style=\"text-align: right;\">\n",
       "      <th></th>\n",
       "      <th>Annualized Return</th>\n",
       "      <th>Annualized Vol</th>\n",
       "      <th>Skewness</th>\n",
       "      <th>Kurtosis</th>\n",
       "      <th>Cornish-Fisher VaR (5%)</th>\n",
       "      <th>Historic CVaR (5%)</th>\n",
       "      <th>Sharpe Ratio</th>\n",
       "      <th>Max Drawdown</th>\n",
       "    </tr>\n",
       "  </thead>\n",
       "  <tbody>\n",
       "    <tr>\n",
       "      <th>Market</th>\n",
       "      <td>0.096058</td>\n",
       "      <td>0.145419</td>\n",
       "      <td>-0.668827</td>\n",
       "      <td>4.247282</td>\n",
       "      <td>0.066949</td>\n",
       "      <td>0.094633</td>\n",
       "      <td>0.441951</td>\n",
       "      <td>-0.499943</td>\n",
       "    </tr>\n",
       "    <tr>\n",
       "      <th>MaxDD</th>\n",
       "      <td>0.090062</td>\n",
       "      <td>0.112755</td>\n",
       "      <td>-0.630463</td>\n",
       "      <td>5.015334</td>\n",
       "      <td>0.049978</td>\n",
       "      <td>0.071074</td>\n",
       "      <td>0.518327</td>\n",
       "      <td>-0.244212</td>\n",
       "    </tr>\n",
       "  </tbody>\n",
       "</table>\n",
       "</div>"
      ],
      "text/plain": [
       "        Annualized Return  Annualized Vol  Skewness  Kurtosis  \\\n",
       "Market           0.096058        0.145419 -0.668827  4.247282   \n",
       "MaxDD            0.090062        0.112755 -0.630463  5.015334   \n",
       "\n",
       "        Cornish-Fisher VaR (5%)  Historic CVaR (5%)  Sharpe Ratio  \\\n",
       "Market                 0.066949            0.094633      0.441951   \n",
       "MaxDD                  0.049978            0.071074      0.518327   \n",
       "\n",
       "        Max Drawdown  \n",
       "Market     -0.499943  \n",
       "MaxDD      -0.244212  "
      ]
     },
     "execution_count": 17,
     "metadata": {},
     "output_type": "execute_result"
    }
   ],
   "source": [
    "erk.summary_stats(pd.concat([rets_tmi.rename(\"Market\"), rets_maxdd25[0].rename(\"MaxDD\")], axis=1))"
   ]
  },
  {
   "cell_type": "markdown",
   "id": "3bef842d",
   "metadata": {},
   "source": [
    "#### Final Quiz"
   ]
  },
  {
   "cell_type": "code",
   "execution_count": 23,
   "id": "4cc183d8",
   "metadata": {},
   "outputs": [
    {
     "data": {
      "text/plain": [
       "0    1000.0\n",
       "dtype: float64"
      ]
     },
     "execution_count": 23,
     "metadata": {},
     "output_type": "execute_result"
    }
   ],
   "source": [
    "B1 = erk.bond_price(15, 1000, 0.05, 2, 0.05)\n",
    "flows_B1 = erk.bond_cash_flows(15, 1000, 0.05, 2)\n",
    "B1"
   ]
  },
  {
   "cell_type": "code",
   "execution_count": 24,
   "id": "c277e3aa",
   "metadata": {},
   "outputs": [
    {
     "data": {
      "text/plain": [
       "0    1043.99829\n",
       "dtype: float64"
      ]
     },
     "execution_count": 24,
     "metadata": {},
     "output_type": "execute_result"
    }
   ],
   "source": [
    "B2 = erk.bond_price(5, 1000, 0.06, 4, 0.05)\n",
    "flows_B2 = erk.bond_cash_flows(5, 1000, 0.06, 4)\n",
    "B2"
   ]
  },
  {
   "cell_type": "code",
   "execution_count": 25,
   "id": "04847964",
   "metadata": {},
   "outputs": [
    {
     "data": {
      "text/plain": [
       "0    613.913254\n",
       "dtype: float64"
      ]
     },
     "execution_count": 25,
     "metadata": {},
     "output_type": "execute_result"
    }
   ],
   "source": [
    "B3 = erk.bond_price(10, 1000, 0, 1, 0.05)\n",
    "flows_B3 = erk.bond_cash_flows(10, 1000, 0, 1)\n",
    "B3"
   ]
  },
  {
   "cell_type": "code",
   "execution_count": 32,
   "id": "d02d2ad0",
   "metadata": {},
   "outputs": [
    {
     "data": {
      "text/plain": [
       "10.72677495379012"
      ]
     },
     "execution_count": 32,
     "metadata": {},
     "output_type": "execute_result"
    }
   ],
   "source": [
    "duration_B1 = erk.macaulay_duration(erk.bond_cash_flows(15, 1000, 0.05, 2), 0.05/2)/2\n",
    "duration_B1"
   ]
  },
  {
   "cell_type": "code",
   "execution_count": 34,
   "id": "39104555",
   "metadata": {},
   "outputs": [
    {
     "data": {
      "text/plain": [
       "4.373363222636413"
      ]
     },
     "execution_count": 34,
     "metadata": {},
     "output_type": "execute_result"
    }
   ],
   "source": [
    "duration_B2 = erk.macaulay_duration(flows_B2, 0.05/4)/4\n",
    "duration_B2"
   ]
  },
  {
   "cell_type": "code",
   "execution_count": 36,
   "id": "fb822ba5",
   "metadata": {},
   "outputs": [
    {
     "data": {
      "text/plain": [
       "10.0"
      ]
     },
     "execution_count": 36,
     "metadata": {},
     "output_type": "execute_result"
    }
   ],
   "source": [
    "duration_B3 = erk.macaulay_duration(flows_B3, 1)\n",
    "duration_B3"
   ]
  },
  {
   "cell_type": "code",
   "execution_count": 37,
   "id": "bed6cb3a",
   "metadata": {},
   "outputs": [
    {
     "data": {
      "text/plain": [
       "1       25.0\n",
       "2       25.0\n",
       "3       25.0\n",
       "4       25.0\n",
       "5       25.0\n",
       "6       25.0\n",
       "7       25.0\n",
       "8       25.0\n",
       "9       25.0\n",
       "10      25.0\n",
       "11      25.0\n",
       "12      25.0\n",
       "13      25.0\n",
       "14      25.0\n",
       "15      25.0\n",
       "16      25.0\n",
       "17      25.0\n",
       "18      25.0\n",
       "19      25.0\n",
       "20      25.0\n",
       "21      25.0\n",
       "22      25.0\n",
       "23      25.0\n",
       "24      25.0\n",
       "25      25.0\n",
       "26      25.0\n",
       "27      25.0\n",
       "28      25.0\n",
       "29      25.0\n",
       "30    1025.0\n",
       "dtype: float64"
      ]
     },
     "execution_count": 37,
     "metadata": {},
     "output_type": "execute_result"
    }
   ],
   "source": [
    "flows_B1"
   ]
  },
  {
   "cell_type": "code",
   "execution_count": 45,
   "id": "38a52004",
   "metadata": {},
   "outputs": [],
   "source": [
    "liabilities = pd.Series(data=[100000, 200000, 300000], index=[3,5,10])"
   ]
  },
  {
   "cell_type": "code",
   "execution_count": 50,
   "id": "b303e735",
   "metadata": {},
   "outputs": [],
   "source": [
    "duration_liab = erk.macaulay_duration(liabilities, 0.05)"
   ]
  },
  {
   "cell_type": "code",
   "execution_count": 52,
   "id": "92e3bce4",
   "metadata": {},
   "outputs": [
    {
     "data": {
      "text/plain": [
       "0.6257830075060314"
      ]
     },
     "execution_count": 52,
     "metadata": {},
     "output_type": "execute_result"
    }
   ],
   "source": [
    "(duration_B1 - duration_liab)/(duration_B1 - duration_B2)"
   ]
  },
  {
   "cell_type": "code",
   "execution_count": 53,
   "id": "2e793af9",
   "metadata": {},
   "outputs": [
    {
     "data": {
      "text/plain": [
       "0.5774465770256697"
      ]
     },
     "execution_count": 53,
     "metadata": {},
     "output_type": "execute_result"
    }
   ],
   "source": [
    "(duration_B3 - duration_liab)/(duration_B3 - duration_B2)"
   ]
  },
  {
   "cell_type": "code",
   "execution_count": 54,
   "id": "d803db1c",
   "metadata": {},
   "outputs": [
    {
     "data": {
      "text/plain": [
       "5.470547767656877"
      ]
     },
     "execution_count": 54,
     "metadata": {},
     "output_type": "execute_result"
    }
   ],
   "source": [
    "(duration_B1 - duration_liab)/(duration_B1 - duration_B3)"
   ]
  },
  {
   "cell_type": "code",
   "execution_count": null,
   "id": "546eccee",
   "metadata": {},
   "outputs": [],
   "source": []
  }
 ],
 "metadata": {
  "kernelspec": {
   "display_name": "Python 3 (ipykernel)",
   "language": "python",
   "name": "python3"
  },
  "language_info": {
   "codemirror_mode": {
    "name": "ipython",
    "version": 3
   },
   "file_extension": ".py",
   "mimetype": "text/x-python",
   "name": "python",
   "nbconvert_exporter": "python",
   "pygments_lexer": "ipython3",
   "version": "3.10.2"
  }
 },
 "nbformat": 4,
 "nbformat_minor": 5
}
